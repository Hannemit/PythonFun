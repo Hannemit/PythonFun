{
 "cells": [
  {
   "cell_type": "markdown",
   "metadata": {
    "collapsed": true,
    "pycharm": {
     "name": "#%% md\n"
    }
   },
   "source": [
    "# Demo of Pydantic\n",
    "This is a very simple demo of some of the things you can do with Pydantic. \n",
    "All we need to do is a `pip install pydantic` and we're good to go! \n",
    "\n",
    "We will import BaseModel from pydantic, and then create classes which inherit from BaseModel. Pydantic uses built-in type hinting. "
   ]
  },
  {
   "cell_type": "code",
   "execution_count": 1,
   "metadata": {
    "pycharm": {
     "name": "#%%\n"
    }
   },
   "outputs": [],
   "source": [
    "from pydantic import (\n",
    "    BaseModel, \n",
    "    NegativeInt, \n",
    "    PositiveInt, \n",
    "    conint, \n",
    "    conlist, \n",
    "    constr, \n",
    "    PositiveFloat\n",
    ")"
   ]
  },
  {
   "cell_type": "code",
   "execution_count": 3,
   "metadata": {
    "pycharm": {
     "name": "#%%\n"
    }
   },
   "outputs": [],
   "source": [
    "# we create a class which inherits from BaseModel. This is a simple class which takes two\n",
    "# optimal parameters, 'mean' (a float) and 'std' (also a float). \n",
    "class Gaussian(BaseModel):\n",
    "    \n",
    "    mean: float = 0.0\n",
    "    std: float = 1.0 "
   ]
  },
  {
   "cell_type": "code",
   "execution_count": 4,
   "metadata": {
    "pycharm": {
     "name": "#%%\n"
    }
   },
   "outputs": [],
   "source": [
    "# instantiate the class\n",
    "data = {\"mean\": 3.0, \"std\": 2.0}\n",
    "gauss = Gaussian(**data)"
   ]
  },
  {
   "cell_type": "markdown",
   "metadata": {},
   "source": [
    "# Type enforcement"
   ]
  },
  {
   "cell_type": "markdown",
   "metadata": {},
   "source": [
    "We can print out the class which gives us information about which variables are set"
   ]
  },
  {
   "cell_type": "code",
   "execution_count": 5,
   "metadata": {
    "pycharm": {
     "name": "#%%\n"
    }
   },
   "outputs": [
    {
     "name": "stdout",
     "output_type": "stream",
     "text": [
      "mean=3.0 std=2.0\n"
     ]
    }
   ],
   "source": [
    "print(gauss)"
   ]
  },
  {
   "cell_type": "markdown",
   "metadata": {},
   "source": [
    "Now what if we give the model data with different types? We see that Pydantic automatically converts them to the correct type! The integer passed in is converted to float, and so is the string we pass for std. "
   ]
  },
  {
   "cell_type": "code",
   "execution_count": 6,
   "metadata": {
    "pycharm": {
     "name": "#%%\n"
    }
   },
   "outputs": [
    {
     "name": "stdout",
     "output_type": "stream",
     "text": [
      "mean=4.0 std=5.4\n"
     ]
    }
   ],
   "source": [
    "data = {\"mean\": 4, \"std\": \"5.4\"}\n",
    "gauss= Gaussian(**data)\n",
    "print(gauss)"
   ]
  },
  {
   "cell_type": "code",
   "execution_count": 7,
   "metadata": {
    "pycharm": {
     "name": "#%%\n"
    }
   },
   "outputs": [
    {
     "data": {
      "text/plain": [
       "float"
      ]
     },
     "execution_count": 7,
     "metadata": {},
     "output_type": "execute_result"
    }
   ],
   "source": [
    "type(gauss.std)"
   ]
  },
  {
   "cell_type": "markdown",
   "metadata": {},
   "source": [
    "Of course if we provide something that cannot easily be cast as a float, we will get an error"
   ]
  },
  {
   "cell_type": "code",
   "execution_count": 8,
   "metadata": {
    "pycharm": {
     "name": "#%%\n"
    }
   },
   "outputs": [
    {
     "ename": "ValidationError",
     "evalue": "1 validation error for Gaussian\nmean\n  value is not a valid float (type=type_error.float)",
     "output_type": "error",
     "traceback": [
      "\u001B[0;31m---------------------------------------------------------------------------\u001B[0m",
      "\u001B[0;31mValidationError\u001B[0m                           Traceback (most recent call last)",
      "\u001B[0;32m<ipython-input-8-d140d5c52b83>\u001B[0m in \u001B[0;36m<module>\u001B[0;34m\u001B[0m\n\u001B[1;32m      1\u001B[0m \u001B[0mdata\u001B[0m \u001B[0;34m=\u001B[0m \u001B[0;34m{\u001B[0m\u001B[0;34m\"mean\"\u001B[0m\u001B[0;34m:\u001B[0m \u001B[0;34m\"this is not a float\"\u001B[0m\u001B[0;34m,\u001B[0m \u001B[0;34m\"std\"\u001B[0m\u001B[0;34m:\u001B[0m \u001B[0;34m\"5.4\"\u001B[0m\u001B[0;34m}\u001B[0m\u001B[0;34m\u001B[0m\u001B[0;34m\u001B[0m\u001B[0m\n\u001B[0;32m----> 2\u001B[0;31m \u001B[0mgauss\u001B[0m\u001B[0;34m=\u001B[0m \u001B[0mGaussian\u001B[0m\u001B[0;34m(\u001B[0m\u001B[0;34m**\u001B[0m\u001B[0mdata\u001B[0m\u001B[0;34m)\u001B[0m\u001B[0;34m\u001B[0m\u001B[0;34m\u001B[0m\u001B[0m\n\u001B[0m",
      "\u001B[0;32m~/anaconda3/lib/python3.7/site-packages/pydantic/main.cpython-37m-x86_64-linux-gnu.so\u001B[0m in \u001B[0;36mpydantic.main.BaseModel.__init__\u001B[0;34m()\u001B[0m\n",
      "\u001B[0;31mValidationError\u001B[0m: 1 validation error for Gaussian\nmean\n  value is not a valid float (type=type_error.float)"
     ]
    }
   ],
   "source": [
    "data = {\"mean\": \"this is not a float\", \"std\": \"5.4\"}\n",
    "gauss= Gaussian(**data)"
   ]
  },
  {
   "cell_type": "markdown",
   "metadata": {},
   "source": [
    "# Constrained types\n",
    "\n",
    "What if we want to make sure that a particular variable does not exceed a certain value? Or what if we want to pass an integer but we want to make sure it's a multiple of 4? We can do this using the constrained variables of Pydantic!\n",
    "\n",
    "When trying to instantiate the class with values outside of the allowed range, a ValidationError is thrown telling us what was wrong."
   ]
  },
  {
   "cell_type": "code",
   "execution_count": 27,
   "metadata": {
    "pycharm": {
     "name": "#%%\n"
    }
   },
   "outputs": [],
   "source": [
    "class Gaussian(BaseModel):\n",
    "    \n",
    "    mean: conint(gt=0, lt=100)  # enforce a mean between 0 and 100\n",
    "    std: PositiveFloat  # enforce the standard deviation to be positive\n",
    "\n",
    "    def print_mean(self):\n",
    "        print(self.mean)"
   ]
  },
  {
   "cell_type": "code",
   "execution_count": 23,
   "metadata": {
    "pycharm": {
     "name": "#%%\n"
    }
   },
   "outputs": [
    {
     "ename": "ValidationError",
     "evalue": "2 validation errors for Gaussian\nmean\n  ensure this value is less than 100 (type=value_error.number.not_lt; limit_value=100)\nstd\n  ensure this value is greater than 0 (type=value_error.number.not_gt; limit_value=0)",
     "output_type": "error",
     "traceback": [
      "\u001B[0;31m---------------------------------------------------------------------------\u001B[0m",
      "\u001B[0;31mValidationError\u001B[0m                           Traceback (most recent call last)",
      "\u001B[0;32m<ipython-input-23-783313e8e6bf>\u001B[0m in \u001B[0;36m<module>\u001B[0;34m\u001B[0m\n\u001B[0;32m----> 1\u001B[0;31m \u001B[0mGaussian\u001B[0m\u001B[0;34m(\u001B[0m\u001B[0;34m**\u001B[0m\u001B[0;34m{\u001B[0m\u001B[0;34m\"mean\"\u001B[0m\u001B[0;34m:\u001B[0m \u001B[0;36m120\u001B[0m\u001B[0;34m,\u001B[0m \u001B[0;34m\"std\"\u001B[0m\u001B[0;34m:\u001B[0m \u001B[0;34m-\u001B[0m\u001B[0;36m0.3\u001B[0m\u001B[0;34m}\u001B[0m\u001B[0;34m)\u001B[0m\u001B[0;34m\u001B[0m\u001B[0;34m\u001B[0m\u001B[0m\n\u001B[0m",
      "\u001B[0;32m~/anaconda3/lib/python3.7/site-packages/pydantic/main.cpython-37m-x86_64-linux-gnu.so\u001B[0m in \u001B[0;36mpydantic.main.BaseModel.__init__\u001B[0;34m()\u001B[0m\n",
      "\u001B[0;31mValidationError\u001B[0m: 2 validation errors for Gaussian\nmean\n  ensure this value is less than 100 (type=value_error.number.not_lt; limit_value=100)\nstd\n  ensure this value is greater than 0 (type=value_error.number.not_gt; limit_value=0)"
     ]
    }
   ],
   "source": [
    "Gaussian(**{\"mean\": 120, \"std\": -0.3})"
   ]
  },
  {
   "cell_type": "code",
   "execution_count": 32,
   "metadata": {},
   "outputs": [
    {
     "name": "stdout",
     "output_type": "stream",
     "text": [
      "30\n"
     ]
    }
   ],
   "source": [
    "gauss = Gaussian(**{\"mean\": \"30\", \"std\": 0.3})\n",
    "gauss.print_mean()"
   ]
  },
  {
   "cell_type": "markdown",
   "metadata": {},
   "source": [
    "# methods\n",
    "\n",
    "A whole bunch of methods are inherited from BaseModel, e.g. `schema()`, `json()`. For all the methods, just look at the Pydantic docs!"
   ]
  },
  {
   "cell_type": "code",
   "execution_count": 11,
   "metadata": {
    "pycharm": {
     "name": "#%%\n"
    }
   },
   "outputs": [
    {
     "data": {
      "text/plain": [
       "{'title': 'Gaussian',\n",
       " 'type': 'object',\n",
       " 'properties': {'mean': {'title': 'Mean',\n",
       "   'exclusiveMinimum': 0,\n",
       "   'exclusiveMaximum': 100,\n",
       "   'type': 'integer'},\n",
       "  'std': {'title': 'Std', 'exclusiveMinimum': 0, 'type': 'number'}},\n",
       " 'required': ['mean', 'std']}"
      ]
     },
     "execution_count": 11,
     "metadata": {},
     "output_type": "execute_result"
    }
   ],
   "source": [
    "gauss = Gaussian(**{\"mean\": 4, \"std\": \"5.4\"})\n",
    "gauss.schema()"
   ]
  },
  {
   "cell_type": "code",
   "execution_count": 12,
   "metadata": {
    "pycharm": {
     "name": "#%%\n"
    }
   },
   "outputs": [
    {
     "data": {
      "text/plain": [
       "'{\"mean\": 4, \"std\": 5.4}'"
      ]
     },
     "execution_count": 12,
     "metadata": {},
     "output_type": "execute_result"
    }
   ],
   "source": [
    "gauss.json()"
   ]
  }
 ],
 "metadata": {
  "kernelspec": {
   "display_name": "Python 3",
   "language": "python",
   "name": "python3"
  },
  "language_info": {
   "codemirror_mode": {
    "name": "ipython",
    "version": 3
   },
   "file_extension": ".py",
   "mimetype": "text/x-python",
   "name": "python",
   "nbconvert_exporter": "python",
   "pygments_lexer": "ipython3",
   "version": "3.7.4"
  }
 },
 "nbformat": 4,
 "nbformat_minor": 1
}